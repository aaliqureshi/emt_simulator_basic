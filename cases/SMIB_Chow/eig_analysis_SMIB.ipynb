{
 "cells": [
  {
   "cell_type": "code",
   "execution_count": 1,
   "metadata": {},
   "outputs": [],
   "source": [
    "import andes"
   ]
  },
  {
   "cell_type": "code",
   "execution_count": 7,
   "metadata": {},
   "outputs": [],
   "source": [
    "# !cursor /Users/aali27/.andes/andes.rc"
   ]
  },
  {
   "cell_type": "code",
   "execution_count": 8,
   "metadata": {},
   "outputs": [
    {
     "name": "stdout",
     "output_type": "stream",
     "text": [
      "\n",
      "    _           _         | Version 1.9.1.post59+gc7e7304d\n",
      "   /_\\  _ _  __| |___ ___ | Python 3.8.19 on Darwin, 03/27/2025 04:07:25 PM\n",
      "  / _ \\| ' \\/ _` / -_|_-< | \n",
      " /_/ \\_\\_||_\\__,_\\___/__/ | This program comes with ABSOLUTELY NO WARRANTY.\n",
      "\n",
      "> Loaded config from file \"/Users/aali27/.andes/andes.rc\"\n",
      "Numerical code generation (quick mode) started...\n",
      "Generating code for 97 models on 16 processes.\n",
      "Saved generated pycode to \"/Users/aali27/.andes/pycode\"\n",
      "> Loaded generated Python code in \"/Users/aali27/.andes/pycode\".\n",
      "Generated numerical code for 97 models in 1.2268 seconds.\n"
     ]
    }
   ],
   "source": [
    "\n",
    "!andes prep\n",
    "ss1 = andes.load('/Users/aali27/Work/repos/andes/andes/cases/SMIB_Chow/SMIB_RL_Line.xlsx', default_config= True)"
   ]
  },
  {
   "cell_type": "code",
   "execution_count": 9,
   "metadata": {},
   "outputs": [
    {
     "data": {
      "text/plain": [
       "True"
      ]
     },
     "execution_count": 9,
     "metadata": {},
     "output_type": "execute_result"
    }
   ],
   "source": [
    "ss1.PFlow.run()"
   ]
  },
  {
   "cell_type": "code",
   "execution_count": 12,
   "metadata": {},
   "outputs": [
    {
     "data": {
      "text/plain": [
       "True"
      ]
     },
     "execution_count": 12,
     "metadata": {},
     "output_type": "execute_result"
    }
   ],
   "source": [
    "ss1.EIG.run()"
   ]
  },
  {
   "cell_type": "code",
   "execution_count": null,
   "metadata": {},
   "outputs": [],
   "source": []
  }
 ],
 "metadata": {
  "kernelspec": {
   "display_name": "andes",
   "language": "python",
   "name": "python3"
  },
  "language_info": {
   "codemirror_mode": {
    "name": "ipython",
    "version": 3
   },
   "file_extension": ".py",
   "mimetype": "text/x-python",
   "name": "python",
   "nbconvert_exporter": "python",
   "pygments_lexer": "ipython3",
   "version": "3.8.19"
  }
 },
 "nbformat": 4,
 "nbformat_minor": 2
}
